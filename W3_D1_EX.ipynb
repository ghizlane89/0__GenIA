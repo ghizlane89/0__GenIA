{
  "nbformat": 4,
  "nbformat_minor": 0,
  "metadata": {
    "colab": {
      "provenance": [],
      "authorship_tag": "ABX9TyMLcstlI+ldJjC237g0QNpp",
      "include_colab_link": true
    },
    "kernelspec": {
      "name": "python3",
      "display_name": "Python 3"
    },
    "language_info": {
      "name": "python"
    }
  },
  "cells": [
    {
      "cell_type": "markdown",
      "metadata": {
        "id": "view-in-github",
        "colab_type": "text"
      },
      "source": [
        "<a href=\"https://colab.research.google.com/github/ghizlane89/0__GenIA/blob/Bootcamp/W3_D1_EX.ipynb\" target=\"_parent\"><img src=\"https://colab.research.google.com/assets/colab-badge.svg\" alt=\"Open In Colab\"/></a>"
      ]
    },
    {
      "cell_type": "code",
      "execution_count": 2,
      "metadata": {
        "colab": {
          "base_uri": "https://localhost:8080/"
        },
        "id": "l2Oeb_NeDJmN",
        "outputId": "b7958f90-7cf8-4e65-d10b-39da4ff3c6f6"
      },
      "outputs": [
        {
          "output_type": "stream",
          "name": "stdout",
          "text": [
            "Array: [0 1 2 3 4 5 6 7 8 9]\n"
          ]
        }
      ],
      "source": [
        "\n",
        "#Exercice 1\n",
        "\n",
        "import numpy as np\n",
        "\n",
        "\n",
        "array_1 = np.arange(10)\n",
        "print(\"Array:\", array_1)\n",
        "\n"
      ]
    },
    {
      "cell_type": "code",
      "source": [
        "# Exercice 2\n",
        "\n",
        "import numpy as np\n",
        "\n",
        "\n",
        "liste = [3.14, 2.17, 0, 1, 2]\n",
        "\n",
        "# Convert to NumPy array and change type to integer\n",
        "array_1 = np.array(liste, dtype=int)\n",
        "print( array_1)\n"
      ],
      "metadata": {
        "colab": {
          "base_uri": "https://localhost:8080/"
        },
        "id": "naniiOEoD1FJ",
        "outputId": "aba86d4e-0d6a-483a-d524-50fa3d472e43"
      },
      "execution_count": 3,
      "outputs": [
        {
          "output_type": "stream",
          "name": "stdout",
          "text": [
            "[3 2 0 1 2]\n"
          ]
        }
      ]
    },
    {
      "cell_type": "code",
      "source": [
        "# Exercice 3\n",
        "\n",
        "\n",
        "import numpy as np\n",
        "\n",
        "array = np.arange(1, 10).reshape(3, 3)\n",
        "print(\"3x3 Array:\\n\", array)"
      ],
      "metadata": {
        "colab": {
          "base_uri": "https://localhost:8080/"
        },
        "id": "z_IiJYeJEWYm",
        "outputId": "fef3835e-3554-40d3-d7cd-79bb56ae4f9b"
      },
      "execution_count": 4,
      "outputs": [
        {
          "output_type": "stream",
          "name": "stdout",
          "text": [
            "3x3 Array:\n",
            " [[1 2 3]\n",
            " [4 5 6]\n",
            " [7 8 9]]\n"
          ]
        }
      ]
    },
    {
      "cell_type": "code",
      "source": [
        "# Exercice 4\n",
        "\n",
        "np.random.rand(4, 5)\n"
      ],
      "metadata": {
        "colab": {
          "base_uri": "https://localhost:8080/"
        },
        "id": "neHWm4qZEsHe",
        "outputId": "c88bb4be-8e56-4754-824f-5ab0b72c0e04"
      },
      "execution_count": 5,
      "outputs": [
        {
          "output_type": "execute_result",
          "data": {
            "text/plain": [
              "array([[0.99895263, 0.51535274, 0.73811712, 0.84425271, 0.44169109],\n",
              "       [0.00971682, 0.29543381, 0.57579728, 0.16391823, 0.9416682 ],\n",
              "       [0.778761  , 0.62682567, 0.47302403, 0.47407267, 0.80680042],\n",
              "       [0.01553075, 0.67343563, 0.25210666, 0.82819009, 0.21840721]])"
            ]
          },
          "metadata": {},
          "execution_count": 5
        }
      ]
    },
    {
      "cell_type": "code",
      "source": [
        "# Exercice 5\n",
        "\n",
        "array = np.array([[21, 22, 23, 22, 22],\n",
        "                  [20, 21, 22, 23, 24],\n",
        "                  [21, 22, 23, 22, 22]])\n",
        "\n",
        "Ligne2 = array[1]\n",
        "\n",
        "print(Ligne2)"
      ],
      "metadata": {
        "colab": {
          "base_uri": "https://localhost:8080/"
        },
        "id": "sRQhgSBgFQNB",
        "outputId": "cbe759e7-ae01-4df7-d6b8-1d1a29b67596"
      },
      "execution_count": 6,
      "outputs": [
        {
          "output_type": "stream",
          "name": "stdout",
          "text": [
            "[20 21 22 23 24]\n"
          ]
        }
      ]
    },
    {
      "cell_type": "code",
      "source": [
        "# Exercice 6\n",
        "\n",
        "array = np.arange(10)\n",
        "\n",
        "# Reverse the array using slicing\n",
        "reversed_arr = array[::-1]\n",
        "\n",
        "print(\"Reversed array:\", reversed_arr)\n",
        "\n",
        "\n",
        "\n"
      ],
      "metadata": {
        "colab": {
          "base_uri": "https://localhost:8080/"
        },
        "id": "GNi-__GpFp5T",
        "outputId": "0058a564-abc2-4e4a-a497-49ed84c479cf"
      },
      "execution_count": 9,
      "outputs": [
        {
          "output_type": "stream",
          "name": "stdout",
          "text": [
            "Reversed array: [9 8 7 6 5 4 3 2 1 0]\n"
          ]
        }
      ]
    },
    {
      "cell_type": "code",
      "source": [
        "# Exercice 7\n",
        "\n",
        "identity_matrix = np.eye(4)\n",
        "\n",
        "print(identity_matrix)\n",
        "\n"
      ],
      "metadata": {
        "colab": {
          "base_uri": "https://localhost:8080/"
        },
        "id": "rxWbgweoG0H7",
        "outputId": "641b6142-995a-46af-8f48-29340f991e60"
      },
      "execution_count": 10,
      "outputs": [
        {
          "output_type": "stream",
          "name": "stdout",
          "text": [
            "[[1. 0. 0. 0.]\n",
            " [0. 1. 0. 0.]\n",
            " [0. 0. 1. 0.]\n",
            " [0. 0. 0. 1.]]\n"
          ]
        }
      ]
    },
    {
      "cell_type": "code",
      "source": [
        "# Exercice 8\n",
        "\n",
        "arr = np.arange(10)\n",
        "\n",
        "total = np.sum(arr)\n",
        "average = np.mean(arr)\n",
        "\n",
        "print(\"Sum:\", total, \"Average:\", average)\n"
      ],
      "metadata": {
        "colab": {
          "base_uri": "https://localhost:8080/"
        },
        "id": "OqoKPP2AHwdK",
        "outputId": "70534571-b36e-4809-972f-6b328f40accd"
      },
      "execution_count": 11,
      "outputs": [
        {
          "output_type": "stream",
          "name": "stdout",
          "text": [
            "Sum: 45 Average: 4.5\n"
          ]
        }
      ]
    },
    {
      "cell_type": "code",
      "source": [
        "# Exercice 9\n",
        "\n",
        "import numpy as np\n",
        "\n",
        "# Create a 1D array from 1 to 20\n",
        "arr = np.arange(1, 21)\n",
        "\n",
        "# Reshape it into a 4x5 matrix\n",
        "reshaped_arr = arr.reshape(4, 5)\n",
        "\n",
        "print( reshaped_arr)\n",
        "\n"
      ],
      "metadata": {
        "colab": {
          "base_uri": "https://localhost:8080/"
        },
        "id": "kyoqLFEHHyRM",
        "outputId": "58f2e1dc-d16d-484f-be2a-480168ec380a"
      },
      "execution_count": 12,
      "outputs": [
        {
          "output_type": "stream",
          "name": "stdout",
          "text": [
            "[[ 1  2  3  4  5]\n",
            " [ 6  7  8  9 10]\n",
            " [11 12 13 14 15]\n",
            " [16 17 18 19 20]]\n"
          ]
        }
      ]
    },
    {
      "cell_type": "code",
      "source": [
        "# Exercice 10\n",
        "\n",
        "import numpy as np\n",
        "\n",
        "# Given array (example)\n",
        "arr = np.array([0, 1, 2, 3, 4, 5, 6, 7, 8, 9])\n",
        "\n",
        "# Extract only odd numbers\n",
        "odd_numbers = arr[arr % 2 == 1]\n",
        "\n",
        "print(\"Odd numbers:\", odd_numbers)\n",
        "\n",
        "\n",
        "\n"
      ],
      "metadata": {
        "colab": {
          "base_uri": "https://localhost:8080/"
        },
        "id": "OeNggPMOH0li",
        "outputId": "97a8fb66-e051-4af7-b761-3e89907e4c92"
      },
      "execution_count": 13,
      "outputs": [
        {
          "output_type": "stream",
          "name": "stdout",
          "text": [
            "Odd numbers: [1 3 5 7 9]\n"
          ]
        }
      ]
    }
  ]
}