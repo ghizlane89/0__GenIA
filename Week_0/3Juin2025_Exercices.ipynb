{
  "nbformat": 4,
  "nbformat_minor": 0,
  "metadata": {
    "colab": {
      "provenance": []
    },
    "kernelspec": {
      "name": "python3",
      "display_name": "Python 3"
    },
    "language_info": {
      "name": "python"
    }
  },
  "cells": [
    {
      "cell_type": "markdown",
      "source": [
        "Exercice 1"
      ],
      "metadata": {
        "id": "YYwsQCMOcpcR"
      }
    },
    {
      "cell_type": "code",
      "execution_count": null,
      "metadata": {
        "id": "RFueMZv4cZT4"
      },
      "outputs": [],
      "source": [
        "first = \"Hello World\"\n",
        "\n",
        "#This is a comment\n",
        "\n",
        "print(\"I AM A COMPUTER!\")\n",
        "\n",
        "if 1<2 and 4>2 :\n",
        "  print(\"Math is fun.\")\n",
        "\n",
        "  nope=\"\"\n",
        "\n",
        "result = False and True\n",
        "print(result)\n",
        "\n",
        "string = \"What's my length?\"\n",
        "length = len(string)\n",
        "print(length)\n",
        "\n",
        "string = \"i am shouting\"\n",
        "uppercase_string = string.upper()\n",
        "print(uppercase_string)\n",
        "\n",
        "string=\"1000\"\n",
        "print(int(string))\n",
        "\n",
        "x=4\n",
        "string=\"real\"\n",
        "y=str(x)+string\n",
        "print(y)\n",
        "\n",
        "for i in range(3):\n",
        "    print(\"cool\")\n",
        "\n",
        "#print (1 / 0)  => output is \"ZeroDivisionError: division by zero\"\n",
        "\n",
        "type([])\n",
        "\n",
        "name = input(\"Enter your name: \")\n",
        "print(name)\n",
        "\n",
        "nombre = input(\"Enter a number : \")\n",
        "a=int (nombre)\n",
        "if a > 0:\n",
        "  print (\"That number is greater than 0!\")\n",
        "elif a < 0:\n",
        "  print (\"That number is less than 0!\")\n",
        "else:\n",
        "  print (\"You picked 0!\")\n",
        "\n",
        "fruit = \"apple\"\n",
        "index_l = fruit.find(\"l\")\n",
        "print(index_l)\n",
        "\n",
        "\"y\" in \"xylophone\"\n",
        "\n",
        "my_string = \"bonjour\"\n",
        "if my_string.islower():\n",
        "    print(\"La chaîne est en minuscules.\")\n",
        "else:\n",
        "    print(\"La chaîne n'est pas en minuscules.\")"
      ]
    },
    {
      "cell_type": "markdown",
      "source": [
        "Exercice 2"
      ],
      "metadata": {
        "id": "Uj6yactyD5S4"
      }
    },
    {
      "cell_type": "code",
      "source": [
        "humanYears = int(input(\"Entrez le nombre d'années humaines : \"))\n",
        "\n",
        "# Calcul de l'âge du chat\n",
        "if humanYears == 1:\n",
        "    catYears = 15\n",
        "elif humanYears == 2:\n",
        "    catYears = 15 + 9\n",
        "else:\n",
        "    catYears = 15 + 9 + (humanYears - 2) * 4\n",
        "\n",
        "# Calcul de l'âge du chien\n",
        "if humanYears == 1:\n",
        "    dogYears = 15\n",
        "elif humanYears == 2:\n",
        "    dogYears = 15 + 9\n",
        "else:\n",
        "    dogYears = 15 + 9 + (humanYears - 2) * 5\n",
        "\n",
        "print([humanYears, catYears, dogYears])"
      ],
      "metadata": {
        "colab": {
          "base_uri": "https://localhost:8080/"
        },
        "id": "-E4j8qYREACb",
        "outputId": "878178a0-d60a-4acb-cb9a-2eb3986f3032"
      },
      "execution_count": 64,
      "outputs": [
        {
          "output_type": "stream",
          "name": "stdout",
          "text": [
            "Entrez le nombre d'années humaines : 1\n",
            "[1, 15, 15]\n"
          ]
        }
      ]
    }
  ]
}
