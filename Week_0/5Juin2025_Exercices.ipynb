{
  "nbformat": 4,
  "nbformat_minor": 0,
  "metadata": {
    "colab": {
      "provenance": []
    },
    "kernelspec": {
      "name": "python3",
      "display_name": "Python 3"
    },
    "language_info": {
      "name": "python"
    }
  },
  "cells": [
    {
      "cell_type": "markdown",
      "source": [
        "Exercice 1"
      ],
      "metadata": {
        "id": "IaXNwl50J3_O"
      }
    },
    {
      "cell_type": "code",
      "execution_count": null,
      "metadata": {
        "colab": {
          "base_uri": "https://localhost:8080/"
        },
        "id": "jHKmFqI0C59c",
        "outputId": "a85e04e2-5f1b-4e8d-b1c4-ca707dd79378"
      },
      "outputs": [
        {
          "output_type": "execute_result",
          "data": {
            "text/plain": [
              "8"
            ]
          },
          "metadata": {},
          "execution_count": 3
        }
      ],
      "source": [
        "def add_two_numbers(x, y):\n",
        " return (x+y)\n",
        "add_two_numbers(3, 5)"
      ]
    },
    {
      "cell_type": "code",
      "source": [
        "def greet(name):\n",
        "  return f\"Hello, {name}!\"\n",
        "greet(\"Bob\")"
      ],
      "metadata": {
        "colab": {
          "base_uri": "https://localhost:8080/",
          "height": 35
        },
        "id": "7SejZQ4ZDWGT",
        "outputId": "fe397479-4d43-4cac-c4b5-9d447cbc628e"
      },
      "execution_count": null,
      "outputs": [
        {
          "output_type": "execute_result",
          "data": {
            "text/plain": [
              "'Hello, Bob!'"
            ],
            "application/vnd.google.colaboratory.intrinsic+json": {
              "type": "string"
            }
          },
          "metadata": {},
          "execution_count": 9
        }
      ]
    },
    {
      "cell_type": "code",
      "source": [
        "def check_even_odd (x):\n",
        "  if x%2==0:\n",
        "    return f\"Even\"\n",
        "  else:\n",
        "    return f\"Odd\"\n",
        "check_even_odd(5)"
      ],
      "metadata": {
        "colab": {
          "base_uri": "https://localhost:8080/",
          "height": 35
        },
        "id": "hNa1lMYKD5AE",
        "outputId": "90c4a3d9-d678-4dd1-e845-76e34925500b"
      },
      "execution_count": null,
      "outputs": [
        {
          "output_type": "execute_result",
          "data": {
            "text/plain": [
              "'Odd'"
            ],
            "application/vnd.google.colaboratory.intrinsic+json": {
              "type": "string"
            }
          },
          "metadata": {},
          "execution_count": 12
        }
      ]
    },
    {
      "cell_type": "code",
      "source": [
        "def sum_list(numbers):\n",
        "    total = 0\n",
        "    for num in numbers:\n",
        "        total += num\n",
        "    return total\n",
        "sum_list([1, 2, 3])"
      ],
      "metadata": {
        "colab": {
          "base_uri": "https://localhost:8080/"
        },
        "id": "ZNBh9DrMFn2E",
        "outputId": "38a15278-ef07-4dbb-fa75-8767478e30ea"
      },
      "execution_count": null,
      "outputs": [
        {
          "output_type": "execute_result",
          "data": {
            "text/plain": [
              "6"
            ]
          },
          "metadata": {},
          "execution_count": 14
        }
      ]
    },
    {
      "cell_type": "code",
      "source": [
        "def print_days ():\n",
        "  days=[\"Monday\", \"Tuesday\", \"Wednesday\", \"Thursday\", \"Friday\", \"Saturday\", \"Sunday\"]\n",
        "  for day in days:\n",
        "    print(day)\n",
        "print_days()"
      ],
      "metadata": {
        "colab": {
          "base_uri": "https://localhost:8080/"
        },
        "id": "Rq6tg4V_GpSi",
        "outputId": "3ea83ea0-8f39-486b-ddbd-4f7f91edd24e"
      },
      "execution_count": null,
      "outputs": [
        {
          "output_type": "stream",
          "name": "stdout",
          "text": [
            "Monday\n",
            "Tuesday\n",
            "Wednesday\n",
            "Thursday\n",
            "Friday\n",
            "Saturday\n",
            "Sunday\n"
          ]
        }
      ]
    },
    {
      "cell_type": "code",
      "source": [
        "def check_sign(x):\n",
        "  if x<0:\n",
        "    print(\"Negative\")\n",
        "  elif x>0:\n",
        "    print(\"Positive\")\n",
        "  else:\n",
        "    print(\"Zero\")\n",
        "check_sign(0)"
      ],
      "metadata": {
        "colab": {
          "base_uri": "https://localhost:8080/"
        },
        "id": "JJytQ5X3IBJV",
        "outputId": "0beadf4a-e696-4de1-9d4d-f5cf33323a82"
      },
      "execution_count": null,
      "outputs": [
        {
          "output_type": "stream",
          "name": "stdout",
          "text": [
            "Zero\n"
          ]
        }
      ]
    },
    {
      "cell_type": "code",
      "source": [
        "def repeat_word(x,y):\n",
        "  for i in range (y):\n",
        "    print(x)\n",
        "repeat_word(\"Hello\",3)"
      ],
      "metadata": {
        "colab": {
          "base_uri": "https://localhost:8080/"
        },
        "id": "xHOnCiUuIsdw",
        "outputId": "b1e9422c-fb80-4320-c751-16d0524e1252"
      },
      "execution_count": null,
      "outputs": [
        {
          "output_type": "stream",
          "name": "stdout",
          "text": [
            "Hello\n",
            "Hello\n",
            "Hello\n"
          ]
        }
      ]
    },
    {
      "cell_type": "markdown",
      "source": [
        "Exercice 2"
      ],
      "metadata": {
        "id": "n8T2q5kqJ-At"
      }
    },
    {
      "cell_type": "code",
      "source": [
        "def find_largest(numbers):\n",
        "    return max(numbers)\n",
        "list=[1,2,3,10]\n",
        "find_largest(list)"
      ],
      "metadata": {
        "colab": {
          "base_uri": "https://localhost:8080/"
        },
        "id": "U0FZ9Mp3MEP1",
        "outputId": "594bc2d3-aa00-4528-e2d6-ebafe819280b"
      },
      "execution_count": null,
      "outputs": [
        {
          "output_type": "execute_result",
          "data": {
            "text/plain": [
              "10"
            ]
          },
          "metadata": {},
          "execution_count": 34
        }
      ]
    },
    {
      "cell_type": "code",
      "source": [
        "def check_letter(word, letter):\n",
        "    return letter in word\n",
        "print(check_letter(\"apple\", \"a\"))"
      ],
      "metadata": {
        "colab": {
          "base_uri": "https://localhost:8080/"
        },
        "id": "3Qq53DkqNMok",
        "outputId": "6b7764a0-2ffc-4db3-91e4-d4ed22dd3507"
      },
      "execution_count": null,
      "outputs": [
        {
          "output_type": "stream",
          "name": "stdout",
          "text": [
            "True\n"
          ]
        }
      ]
    },
    {
      "cell_type": "code",
      "source": [
        "def count_to_number(x):\n",
        "    for i in range(1, x + 1):\n",
        "        print(i)\n",
        "count_to_number(4)"
      ],
      "metadata": {
        "colab": {
          "base_uri": "https://localhost:8080/"
        },
        "id": "222LgNOCO4QG",
        "outputId": "ebbd280f-6973-4b09-9d84-0781df496e02"
      },
      "execution_count": null,
      "outputs": [
        {
          "output_type": "stream",
          "name": "stdout",
          "text": [
            "1\n",
            "2\n",
            "3\n",
            "4\n"
          ]
        }
      ]
    }
  ]
}
