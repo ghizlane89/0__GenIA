{
  "nbformat": 4,
  "nbformat_minor": 0,
  "metadata": {
    "colab": {
      "provenance": []
    },
    "kernelspec": {
      "name": "python3",
      "display_name": "Python 3"
    },
    "language_info": {
      "name": "python"
    }
  },
  "cells": [
    {
      "cell_type": "markdown",
      "source": [
        "Exercice 1"
      ],
      "metadata": {
        "id": "jvIUseh-Cf5M"
      }
    },
    {
      "cell_type": "code",
      "execution_count": null,
      "metadata": {
        "colab": {
          "base_uri": "https://localhost:8080/"
        },
        "id": "8JK5PO2TCZCk",
        "outputId": "107db9fc-b50e-440d-c072-3bb82a928a63"
      },
      "outputs": [
        {
          "output_type": "stream",
          "name": "stdout",
          "text": [
            "20\n",
            "40\n",
            "60\n",
            "80\n"
          ]
        }
      ],
      "source": [
        "list = [1,2,3,4]\n",
        "for value in list:\n",
        "  print(value*20)\n"
      ]
    },
    {
      "cell_type": "code",
      "source": [
        "list = [\"Elie\", \"Tim\", \"Matt\"]\n",
        "initials = [name[0] for name in list]\n",
        "print(initials)\n"
      ],
      "metadata": {
        "colab": {
          "base_uri": "https://localhost:8080/"
        },
        "id": "1Ve_SjLgFmtb",
        "outputId": "b2399bf3-3a30-4733-a07f-8418060f7204"
      },
      "execution_count": null,
      "outputs": [
        {
          "output_type": "stream",
          "name": "stdout",
          "text": [
            "['E', 'T', 'M']\n"
          ]
        }
      ]
    },
    {
      "cell_type": "code",
      "source": [
        "list=[1, 2, 3, 4, 5, 6]\n",
        "pair=[num for num in list if num % 2 == 0]\n",
        "print(pair)\n",
        "\n"
      ],
      "metadata": {
        "colab": {
          "base_uri": "https://localhost:8080/"
        },
        "id": "0F-azZtmG8jZ",
        "outputId": "80ec14d0-be82-4cc7-b214-5379a82d4d0c"
      },
      "execution_count": null,
      "outputs": [
        {
          "output_type": "stream",
          "name": "stdout",
          "text": [
            "[2, 4, 6]\n"
          ]
        }
      ]
    },
    {
      "cell_type": "code",
      "source": [
        "list=[1, 2, 3, 4]\n",
        "list1=[3,4,5,6]\n",
        "print(set(list).intersection(set(list1)))"
      ],
      "metadata": {
        "colab": {
          "base_uri": "https://localhost:8080/"
        },
        "id": "p3ouuTM_IGY6",
        "outputId": "b96a537d-0dbc-4706-ccbe-419c70166e6d"
      },
      "execution_count": null,
      "outputs": [
        {
          "output_type": "stream",
          "name": "stdout",
          "text": [
            "{3, 4}\n"
          ]
        }
      ]
    },
    {
      "cell_type": "code",
      "source": [
        "words = [\"Elie\", \"Tim\", \"Matt\"]\n",
        "reversed_lowercase_words = [word[::-1].lower() for word in words]\n",
        "print(reversed_lowercase_words)"
      ],
      "metadata": {
        "colab": {
          "base_uri": "https://localhost:8080/"
        },
        "id": "S5B6F0mFJdla",
        "outputId": "f6a19b6a-7bc0-44df-e066-2f0e73434827"
      },
      "execution_count": null,
      "outputs": [
        {
          "output_type": "stream",
          "name": "stdout",
          "text": [
            "['eile', 'mit', 'ttam']\n"
          ]
        }
      ]
    },
    {
      "cell_type": "code",
      "source": [
        "first=\"first\"\n",
        "third=\"third\"\n",
        "result =[]\n",
        "for char in first :\n",
        "  if(char in third) :\n",
        "    result.append(char)\n",
        "print(result)"
      ],
      "metadata": {
        "id": "uvUMJfiLL-bh",
        "colab": {
          "base_uri": "https://localhost:8080/"
        },
        "outputId": "314a3c94-bcbd-492b-ae05-cef4b0928a98"
      },
      "execution_count": null,
      "outputs": [
        {
          "output_type": "stream",
          "name": "stdout",
          "text": [
            "['i', 'r', 't']\n"
          ]
        }
      ]
    },
    {
      "cell_type": "code",
      "source": [
        "divisible_by_12 = [num for num in range(1, 101) if num % 12 == 0]\n",
        "\n",
        "print(divisible_by_12)"
      ],
      "metadata": {
        "colab": {
          "base_uri": "https://localhost:8080/"
        },
        "id": "VjFOaz67UscD",
        "outputId": "f7ba0b4a-2834-4305-cd7c-b568e352f86f"
      },
      "execution_count": null,
      "outputs": [
        {
          "output_type": "stream",
          "name": "stdout",
          "text": [
            "[12, 24, 36, 48, 60, 72, 84, 96]\n"
          ]
        }
      ]
    },
    {
      "cell_type": "code",
      "source": [
        "text=\"amazing\"\n",
        "vowels=\"aeiouy\"\n",
        "consonne=[char for char in text if char not in vowels]\n",
        "print(consonne)\n"
      ],
      "metadata": {
        "colab": {
          "base_uri": "https://localhost:8080/"
        },
        "id": "61h6yqpaWMNr",
        "outputId": "9f3ed885-d1f0-4d05-83ed-7654ce4cfbb7"
      },
      "execution_count": null,
      "outputs": [
        {
          "output_type": "stream",
          "name": "stdout",
          "text": [
            "['m', 'z', 'n', 'g']\n"
          ]
        }
      ]
    },
    {
      "cell_type": "code",
      "source": [
        "result = [[0, 1, 2] for _ in range(3)]\n",
        "print(result)"
      ],
      "metadata": {
        "colab": {
          "base_uri": "https://localhost:8080/"
        },
        "id": "alueLltebVih",
        "outputId": "5006baa3-d2f0-489d-f9c4-b393503c342a"
      },
      "execution_count": null,
      "outputs": [
        {
          "output_type": "stream",
          "name": "stdout",
          "text": [
            "[[0, 1, 2], [0, 1, 2], [0, 1, 2]]\n"
          ]
        }
      ]
    },
    {
      "cell_type": "code",
      "source": [
        "result = [[ i for i in range (10)] for _ in range(10)]\n",
        "print(\"[\\n \"+\", \\n \".join(str(row) for row in result)+\"\\n]\")\n"
      ],
      "metadata": {
        "colab": {
          "base_uri": "https://localhost:8080/"
        },
        "id": "BAijO9tXbzxf",
        "outputId": "25c681e3-9727-4fcf-d783-9341e387208e"
      },
      "execution_count": null,
      "outputs": [
        {
          "output_type": "stream",
          "name": "stdout",
          "text": [
            "[\n",
            " [0, 1, 2, 3, 4, 5, 6, 7, 8, 9], \n",
            " [0, 1, 2, 3, 4, 5, 6, 7, 8, 9], \n",
            " [0, 1, 2, 3, 4, 5, 6, 7, 8, 9], \n",
            " [0, 1, 2, 3, 4, 5, 6, 7, 8, 9], \n",
            " [0, 1, 2, 3, 4, 5, 6, 7, 8, 9], \n",
            " [0, 1, 2, 3, 4, 5, 6, 7, 8, 9], \n",
            " [0, 1, 2, 3, 4, 5, 6, 7, 8, 9], \n",
            " [0, 1, 2, 3, 4, 5, 6, 7, 8, 9], \n",
            " [0, 1, 2, 3, 4, 5, 6, 7, 8, 9], \n",
            " [0, 1, 2, 3, 4, 5, 6, 7, 8, 9]\n",
            "]\n"
          ]
        }
      ]
    },
    {
      "cell_type": "markdown",
      "source": [
        "Exercice 2"
      ],
      "metadata": {
        "id": "4P4Y20-wgWwY"
      }
    },
    {
      "cell_type": "code",
      "source": [
        "# Liste de tuples\n",
        "list_of_tuples = [(\"name\", \"Elie\"), (\"job\", \"Instructor\")]\n",
        "\n",
        "# Conversion en dictionnaire\n",
        "result_dict = dict(list_of_tuples)\n",
        "\n",
        "print(result_dict)"
      ],
      "metadata": {
        "colab": {
          "base_uri": "https://localhost:8080/"
        },
        "id": "xnP7gVgpgYNQ",
        "outputId": "47eca126-dc37-47d2-d45f-7b895b98a6dc"
      },
      "execution_count": null,
      "outputs": [
        {
          "output_type": "stream",
          "name": "stdout",
          "text": [
            "{'name': 'Elie', 'job': 'Instructor'}\n"
          ]
        }
      ]
    },
    {
      "cell_type": "code",
      "source": [
        "# Listes données\n",
        "abbreviations = [\"CA\", \"NJ\", \"RI\"]\n",
        "full_names = [\"California\", \"New Jersey\", \"Rhode Island\"]\n",
        "\n",
        "# Création du dictionnaire en zippant les deux listes\n",
        "result_dict = dict(zip(abbreviations, full_names))\n",
        "\n",
        "print(result_dict)"
      ],
      "metadata": {
        "colab": {
          "base_uri": "https://localhost:8080/"
        },
        "id": "E0ZOn9B8gbb2",
        "outputId": "8a1e522b-c4b4-4523-eb92-cec0c648a2d5"
      },
      "execution_count": null,
      "outputs": [
        {
          "output_type": "stream",
          "name": "stdout",
          "text": [
            "{'CA': 'California', 'NJ': 'New Jersey', 'RI': 'Rhode Island'}\n"
          ]
        }
      ]
    },
    {
      "cell_type": "code",
      "source": [
        "vowels=[\"a\",\"e\",\"i\",\"o\",\"u\",\"y\"]\n",
        "# Création du dictionnaire avec compréhension\n",
        "vowels_dict = {vowel: 0 for vowel in vowels}\n",
        "\n",
        "print(vowels_dict)"
      ],
      "metadata": {
        "colab": {
          "base_uri": "https://localhost:8080/"
        },
        "id": "dzSrTgRbhHNP",
        "outputId": "084321e5-c669-4baf-cb5e-14a5042e1cff"
      },
      "execution_count": null,
      "outputs": [
        {
          "output_type": "stream",
          "name": "stdout",
          "text": [
            "{'a': 0, 'e': 0, 'i': 0, 'o': 0, 'u': 0, 'y': 0}\n"
          ]
        }
      ]
    },
    {
      "cell_type": "code",
      "source": [
        "import string\n",
        "# Créer le dictionnaire\n",
        "position_dict = {i: letter for i, letter in enumerate(string.ascii_uppercase, start=1)}\n",
        "\n",
        "print(\"{\")\n",
        "for key, value in position_dict.items():\n",
        "    print(f\"  {key}: '{value}',\")\n",
        "print(\"}\")"
      ],
      "metadata": {
        "colab": {
          "base_uri": "https://localhost:8080/"
        },
        "id": "tIzlmY86iAKl",
        "outputId": "e1923858-9595-4be1-cb19-f5c6c0112f84"
      },
      "execution_count": 33,
      "outputs": [
        {
          "output_type": "stream",
          "name": "stdout",
          "text": [
            "{\n",
            "  1: 'A',\n",
            "  2: 'B',\n",
            "  3: 'C',\n",
            "  4: 'D',\n",
            "  5: 'E',\n",
            "  6: 'F',\n",
            "  7: 'G',\n",
            "  8: 'H',\n",
            "  9: 'I',\n",
            "  10: 'J',\n",
            "  11: 'K',\n",
            "  12: 'L',\n",
            "  13: 'M',\n",
            "  14: 'N',\n",
            "  15: 'O',\n",
            "  16: 'P',\n",
            "  17: 'Q',\n",
            "  18: 'R',\n",
            "  19: 'S',\n",
            "  20: 'T',\n",
            "  21: 'U',\n",
            "  22: 'V',\n",
            "  23: 'W',\n",
            "  24: 'X',\n",
            "  25: 'Y',\n",
            "  26: 'Z',\n",
            "}\n"
          ]
        }
      ]
    },
    {
      "cell_type": "code",
      "source": [
        "#Ce code parcourt chaque caractère de la chaîne en le convertissant\n",
        "#en minuscules, et incrémente le compteur correspondant si c’est une voyelle.\n",
        "\n",
        "\n",
        "# La chaîne donnée\n",
        "text = \"awesome sauce\"\n",
        "\n",
        "# Liste des voyelles\n",
        "vowels = ['a', 'e', 'i', 'o', 'u']\n",
        "\n",
        "# Initialiser le dictionnaire avec 0 pour chaque voyelle\n",
        "vowel_counts = {vowel: 0 for vowel in vowels}\n",
        "\n",
        "# Parcourir chaque caractère dans la chaîne\n",
        "for char in text.lower():\n",
        "    if char in vowel_counts:\n",
        "        vowel_counts[char] += 1\n",
        "\n",
        "print(vowel_counts)"
      ],
      "metadata": {
        "colab": {
          "base_uri": "https://localhost:8080/"
        },
        "id": "HX8wVO1XV_0O",
        "outputId": "88b21218-19e5-4260-c6c3-583db6f0fb13"
      },
      "execution_count": 35,
      "outputs": [
        {
          "output_type": "stream",
          "name": "stdout",
          "text": [
            "{'a': 2, 'e': 3, 'i': 0, 'o': 1, 'u': 1}\n"
          ]
        }
      ]
    }
  ]
}
